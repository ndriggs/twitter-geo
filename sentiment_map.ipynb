{
 "cells": [
  {
   "cell_type": "code",
   "execution_count": 2,
   "metadata": {},
   "outputs": [],
   "source": [
    "import tweepy\n",
    "import numpy as np\n",
    "import pandas as pd\n",
    "import re\n",
    "from google.cloud import language_v1\n",
    "import geoplot as gplt\n",
    "import geopandas as gpd\n",
    "import geoplot.crs as gcrs\n",
    "import time"
   ]
  },
  {
   "cell_type": "code",
   "execution_count": 2,
   "metadata": {},
   "outputs": [],
   "source": [
    "with open(\"api_key.txt\") as consumer_keys :\n",
    "    consumer_key = consumer_keys.readline().strip()\n",
    "    consumer_secret = consumer_keys.readline().strip()\n",
    "    \n",
    "with open(\"access_tokens.txt\") as access_tokens :\n",
    "    access_token = access_tokens.readline().strip()\n",
    "    access_token_secret = access_tokens.readline().strip()\n",
    "\n",
    "auth = tweepy.OAuthHandler(consumer_key, consumer_secret)\n",
    "auth.set_access_token(access_token, access_token_secret)\n",
    "\n",
    "api = tweepy.API(auth,\n",
    "                 wait_on_rate_limit=True,\n",
    "                 wait_on_rate_limit_notify = True,\n",
    "                 retry_count = 5,\n",
    "                 retry_delay = 5)"
   ]
  },
  {
   "cell_type": "code",
   "execution_count": 3,
   "metadata": {},
   "outputs": [],
   "source": [
    "# get the latitude and longitude for all US cities \n",
    "# credit - https://simplemaps.com/data/us-cities\n",
    "lat_long = pd.read_csv('uscities.csv', usecols=['lat','lng'])"
   ]
  },
  {
   "cell_type": "code",
   "execution_count": 7,
   "metadata": {},
   "outputs": [],
   "source": [
    "list_of_tweets = []\n",
    "latitude = []\n",
    "longitude = []\n",
    "row = 0\n",
    "while True :\n",
    "    try:\n",
    "        for index in range(row, len(lat_long)) :\n",
    "            lat = str(lat_long.iloc[index, 0])\n",
    "            long = str(lat_long.iloc[index, 1])\n",
    "            tweet_list = api.search(q='-is:retweet -RT',\n",
    "                                    geocode= lat + ',' + long + ',' + '25mi',\n",
    "                                    lang='en', result_type='recent', count=100)\n",
    "            latitude.extend([lat_long.iloc[index, 0] for i in range(len(tweet_list))])\n",
    "            longitude.extend([lat_long.iloc[index, 1] for i in range(len(tweet_list))])\n",
    "            list_of_tweets.append(tweet_list)\n",
    "            row = index + 1\n",
    "    except tweepy.error.TweepError:\n",
    "        time.sleep(120)\n",
    "        continue\n",
    "    break"
   ]
  },
  {
   "cell_type": "code",
   "execution_count": 20,
   "metadata": {},
   "outputs": [],
   "source": [
    "flatten = lambda list_of_lists : [tweet for sublist in list_of_lists for tweet in sublist]"
   ]
  },
  {
   "cell_type": "code",
   "execution_count": null,
   "metadata": {},
   "outputs": [],
   "source": [
    "tweets = flatten(list_of_tweets)"
   ]
  },
  {
   "cell_type": "code",
   "execution_count": 31,
   "metadata": {},
   "outputs": [],
   "source": [
    "text = []\n",
    "for tweet in range(len(tweet_list)) :\n",
    "    temp = re.sub(\"(\\@\\S*) | (https\\://[a-z0-9A-Z\\.\\-_/]*)\", \"\", tweet_list[tweet].text)\n",
    "    temp = re.sub(\"#\", \" \", temp)\n",
    "    temp = re.sub(\"(\\t)|(\\n)\", \" \", temp)\n",
    "    text.append(re.sub(\"[^a-z0-9A-Z!\\-\\.\\ ]\", \"\", temp))"
   ]
  },
  {
   "cell_type": "code",
   "execution_count": 32,
   "metadata": {},
   "outputs": [],
   "source": [
    "twitter_data = pd.DataFrame({'lat':latitude, 'long':longitude, 'text':text})\n",
    "twitter_data.to_csv('twitter_data.csv', index=False)\n",
    "twitter_data = twitter_data.dropna()\n",
    "twitter_data = twitter_data.reset_index(drop=True)"
   ]
  },
  {
   "cell_type": "code",
   "execution_count": 2,
   "metadata": {},
   "outputs": [],
   "source": [
    "client = language_v1.LanguageServiceClient()"
   ]
  },
  {
   "cell_type": "code",
   "execution_count": 16,
   "metadata": {},
   "outputs": [],
   "source": [
    "sentiment_magnitude = []\n",
    "sentiment_score = []\n",
    "for index, row in twitter_data.iterrows() :\n",
    "    time.sleep(0.1) # to not exceed API limits\n",
    "    document = language_v1.Document(content=row['text'], language='en', type_=language_v1.Document.Type.PLAIN_TEXT)\n",
    "    sentiment = client.analyze_sentiment(request={'document': document}).document_sentiment\n",
    "    sentiment_score.append(sentiment.score)\n",
    "    sentiment_magnitude.append(sentiment.magnitude)"
   ]
  },
  {
   "cell_type": "code",
   "execution_count": 26,
   "metadata": {},
   "outputs": [],
   "source": [
    "twitter_data['score'] = sentiment_score\n",
    "twitter_data['magnitude'] = sentiment_magnitude"
   ]
  },
  {
   "cell_type": "code",
   "execution_count": 31,
   "metadata": {},
   "outputs": [],
   "source": [
    "groups = twitter_data.groupby(['lat', 'long'])\n",
    "city_sent_avg = groups.apply(lambda x: np.average(x.score, weights=x.magnitude))\n",
    "\n",
    "map_data = pd.DataFrame({'intensity':city_sent_avg})\n",
    "map_data.reset_index(inplace=True)"
   ]
  },
  {
   "cell_type": "code",
   "execution_count": null,
   "metadata": {},
   "outputs": [],
   "source": [
    "geo_df = gpd.GeoDataFrame(map_data, geometry=gpd.points_from_xy(map_data.long, map_data.lat))\n",
    "gplt.pointplot(geo_df, projection=gcrs.AlbersEqualArea(), hue='score', legend=True)"
   ]
  },
  {
   "cell_type": "code",
   "execution_count": null,
   "metadata": {},
   "outputs": [],
   "source": [
    "us_map = gpd.read_file(gplt.datasets.get_path('contiguous_usa'))\n",
    "ax = geoplot.voronoi(geo_df,  \n",
    "                     hue='score',  \n",
    "                     clip=us_map,  \n",
    "                     projection=gcrs.AlbersEqualArea(),  \n",
    "                     cmap='RdYlGn',  \n",
    "                     k=None,  \n",
    "                     legend=True, \n",
    "                     edgecolor='white',  \n",
    "                     linewidth=0.01  \n",
    "                    )\n",
    "geoplot.polyplot(us_map,  \n",
    "                 ax=ax,  \n",
    "                 extent=USA.total_bounds, \n",
    "                 edgecolor='white', \n",
    "                 linewidth=0.01,  \n",
    "                 zorder=1  \n",
    "                 )"
   ]
  }
 ],
 "metadata": {
  "kernelspec": {
   "display_name": "Python 3",
   "language": "python",
   "name": "python3"
  },
  "language_info": {
   "codemirror_mode": {
    "name": "ipython",
    "version": 3
   },
   "file_extension": ".py",
   "mimetype": "text/x-python",
   "name": "python",
   "nbconvert_exporter": "python",
   "pygments_lexer": "ipython3",
   "version": "3.6.9"
  }
 },
 "nbformat": 4,
 "nbformat_minor": 4
}
